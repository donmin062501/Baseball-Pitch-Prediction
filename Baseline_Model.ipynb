{
  "nbformat": 4,
  "nbformat_minor": 0,
  "metadata": {
    "colab": {
      "name": "Baseline Model",
      "provenance": [],
      "collapsed_sections": [],
      "toc_visible": true
    },
    "kernelspec": {
      "display_name": "Python 3",
      "name": "python3"
    },
    "language_info": {
      "name": "python"
    }
  },
  "cells": [
    {
      "cell_type": "markdown",
      "metadata": {
        "id": "w87N0ABJHQfN"
      },
      "source": [
        "# Baseline Model"
      ]
    },
    {
      "cell_type": "code",
      "metadata": {
        "id": "mQcE9Wb3Un5y"
      },
      "source": [
        "#baseline model\n",
        "def pitcher_info(pitcher_id, filename, dictionary):\n",
        "  data = open(filename, 'r')\n",
        "  lines = data.readlines()\n",
        "  for line in lines:\n",
        "    entries = line.split(',')\n",
        "    if pitcher_id == entries[2].strip():\n",
        "      if entries[5] in dictionary:\n",
        "        dictionary[entries[5]]+= int(entries[8])\n",
        "      else:\n",
        "        dictionary[entries[5]] = int(entries[8])\n",
        "  data.close()\n",
        "  return dictionary\n",
        "\n",
        "def baseline(pitcher_id):\n",
        "  #extracting pitcher info across years\n",
        "  record = dict()\n",
        "  pitcher_info(pitcher_id, 'Pitch-Arsenal-Pitchers-2019.csv', record)\n",
        "  pitcher_info(pitcher_id, 'Pitch-Arsenal-Pitchers-2020.csv', record)\n",
        "  pitcher_info(pitcher_id, 'Pitch-Arsenal-Pitchers-2021.csv', record)\n",
        "\n",
        "  #finding most probable pitch and prediction accuracy\n",
        "  largest = ['pitch name', 0]\n",
        "  sum = 0\n",
        "  for key, value in record.items():\n",
        "    if value > largest[1]:\n",
        "      largest[0] = key\n",
        "      largest[1] = value\n",
        "    sum += value\n",
        "  probability = largest[1]/sum\n",
        "  return largest[0]#, probability\n",
        "\n",
        "def search(filename, dictionary):\n",
        "  count = 0\n",
        "  extract = open(filename, 'r')\n",
        "  content = extract.readlines()\n",
        "  for i in content:\n",
        "    if count == 0:\n",
        "      count = 1\n",
        "    else:\n",
        "      records = i.split(',')\n",
        "      if records[2].strip() not in dictionary:\n",
        "        dictionary[records[2].strip()] = 'unknown'\n",
        "  extract.close()\n",
        "  return dictionary\n"
      ],
      "execution_count": null,
      "outputs": []
    },
    {
      "cell_type": "code",
      "metadata": {
        "id": "EYGIjKIVIMq5"
      },
      "source": [
        "compilation = dict()\n",
        "search('Pitch-Arsenal-Pitchers-2019.csv', compilation)\n",
        "search('Pitch-Arsenal-Pitchers-2020.csv', compilation)\n",
        "search('Pitch-Arsenal-Pitchers-2021.csv', compilation)\n",
        "\n",
        "for keys in compilation:\n",
        "  compilation[keys] = baseline(keys)"
      ],
      "execution_count": null,
      "outputs": []
    },
    {
      "cell_type": "markdown",
      "metadata": {
        "id": "PjRdrIJa-OGC"
      },
      "source": [
        "# Baseline Model Testing"
      ]
    },
    {
      "cell_type": "code",
      "metadata": {
        "id": "u8qpVRlGR9oT"
      },
      "source": [
        "#BASELINE\n",
        "bcorrect = 0\n",
        "btotal = 0\n",
        "for stationary, sequential, label in data:\n",
        "  predict = baseline(stationary)\n",
        "  if predict == label:\n",
        "    bcorrect+=1\n",
        "  btotal+=1\n",
        "result1 = bcorrect / btotal\n",
        "\n",
        "#PRIMARY MODEL\n",
        "result2 = get_accuracy(finalmodel, #testing data)\n",
        "\n",
        "print(\"Baseline accuracy is\", result1)\n",
        "print(\"Primary model accuracy is\", result2)"
      ],
      "execution_count": null,
      "outputs": []
    }
  ]
}